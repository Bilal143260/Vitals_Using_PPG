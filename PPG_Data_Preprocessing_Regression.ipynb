{
 "cells": [
  {
   "cell_type": "code",
   "execution_count": 3,
   "id": "830e2f62",
   "metadata": {},
   "outputs": [],
   "source": [
    "import scipy.io\n",
    "import numpy as np\n",
    "import pandas as pd\n",
    "import os"
   ]
  },
  {
   "cell_type": "markdown",
   "id": "a8324536",
   "metadata": {},
   "source": [
    "## PRE-PROCESSING LABELS"
   ]
  },
  {
   "cell_type": "code",
   "execution_count": 36,
   "id": "dc6a9dc2",
   "metadata": {},
   "outputs": [
    {
     "data": {
      "text/html": [
       "<div>\n",
       "<style scoped>\n",
       "    .dataframe tbody tr th:only-of-type {\n",
       "        vertical-align: middle;\n",
       "    }\n",
       "\n",
       "    .dataframe tbody tr th {\n",
       "        vertical-align: top;\n",
       "    }\n",
       "\n",
       "    .dataframe thead th {\n",
       "        text-align: right;\n",
       "    }\n",
       "</style>\n",
       "<table border=\"1\" class=\"dataframe\">\n",
       "  <thead>\n",
       "    <tr style=\"text-align: right;\">\n",
       "      <th></th>\n",
       "      <th>Session</th>\n",
       "      <th>Index</th>\n",
       "      <th>Timestamp</th>\n",
       "      <th>Date</th>\n",
       "      <th>Time</th>\n",
       "      <th>O2 Saturation</th>\n",
       "      <th>Beats / min</th>\n",
       "      <th>Perfusion Index</th>\n",
       "      <th>Pleth Variability</th>\n",
       "      <th>Breaths / min</th>\n",
       "      <th>Time Stamp</th>\n",
       "      <th>Unnamed: 11</th>\n",
       "    </tr>\n",
       "  </thead>\n",
       "  <tbody>\n",
       "    <tr>\n",
       "      <th>0</th>\n",
       "      <td>1</td>\n",
       "      <td>1</td>\n",
       "      <td>1678092555</td>\n",
       "      <td>3/6/2023</td>\n",
       "      <td>11:49:15</td>\n",
       "      <td>96</td>\n",
       "      <td>69</td>\n",
       "      <td>5.8</td>\n",
       "      <td>--</td>\n",
       "      <td>--</td>\n",
       "      <td>6/3/2023 8:49</td>\n",
       "      <td>3/6/2023 8:49</td>\n",
       "    </tr>\n",
       "    <tr>\n",
       "      <th>1</th>\n",
       "      <td>1</td>\n",
       "      <td>2</td>\n",
       "      <td>1678092556</td>\n",
       "      <td>3/6/2023</td>\n",
       "      <td>11:49:16</td>\n",
       "      <td>96</td>\n",
       "      <td>68</td>\n",
       "      <td>6.0</td>\n",
       "      <td>--</td>\n",
       "      <td>--</td>\n",
       "      <td>6/3/2023 8:49</td>\n",
       "      <td>NaN</td>\n",
       "    </tr>\n",
       "    <tr>\n",
       "      <th>2</th>\n",
       "      <td>1</td>\n",
       "      <td>3</td>\n",
       "      <td>1678092557</td>\n",
       "      <td>3/6/2023</td>\n",
       "      <td>11:49:17</td>\n",
       "      <td>96</td>\n",
       "      <td>68</td>\n",
       "      <td>6.0</td>\n",
       "      <td>--</td>\n",
       "      <td>--</td>\n",
       "      <td>6/3/2023 8:49</td>\n",
       "      <td>NaN</td>\n",
       "    </tr>\n",
       "    <tr>\n",
       "      <th>3</th>\n",
       "      <td>1</td>\n",
       "      <td>4</td>\n",
       "      <td>1678092558</td>\n",
       "      <td>3/6/2023</td>\n",
       "      <td>11:49:18</td>\n",
       "      <td>97</td>\n",
       "      <td>68</td>\n",
       "      <td>6.1</td>\n",
       "      <td>--</td>\n",
       "      <td>--</td>\n",
       "      <td>6/3/2023 8:49</td>\n",
       "      <td>NaN</td>\n",
       "    </tr>\n",
       "    <tr>\n",
       "      <th>4</th>\n",
       "      <td>1</td>\n",
       "      <td>5</td>\n",
       "      <td>1678092559</td>\n",
       "      <td>3/6/2023</td>\n",
       "      <td>11:49:19</td>\n",
       "      <td>97</td>\n",
       "      <td>68</td>\n",
       "      <td>6.1</td>\n",
       "      <td>--</td>\n",
       "      <td>--</td>\n",
       "      <td>6/3/2023 8:49</td>\n",
       "      <td>NaN</td>\n",
       "    </tr>\n",
       "  </tbody>\n",
       "</table>\n",
       "</div>"
      ],
      "text/plain": [
       "   Session  Index   Timestamp      Date      Time  O2 Saturation  Beats / min  \\\n",
       "0        1      1  1678092555  3/6/2023  11:49:15             96           69   \n",
       "1        1      2  1678092556  3/6/2023  11:49:16             96           68   \n",
       "2        1      3  1678092557  3/6/2023  11:49:17             96           68   \n",
       "3        1      4  1678092558  3/6/2023  11:49:18             97           68   \n",
       "4        1      5  1678092559  3/6/2023  11:49:19             97           68   \n",
       "\n",
       "   Perfusion Index Pleth Variability Breaths / min     Time Stamp  \\\n",
       "0              5.8                --            --  6/3/2023 8:49   \n",
       "1              6.0                --            --  6/3/2023 8:49   \n",
       "2              6.0                --            --  6/3/2023 8:49   \n",
       "3              6.1                --            --  6/3/2023 8:49   \n",
       "4              6.1                --            --  6/3/2023 8:49   \n",
       "\n",
       "     Unnamed: 11  \n",
       "0  3/6/2023 8:49  \n",
       "1            NaN  \n",
       "2            NaN  \n",
       "3            NaN  \n",
       "4            NaN  "
      ]
     },
     "execution_count": 36,
     "metadata": {},
     "output_type": "execute_result"
    }
   ],
   "source": [
    "df = pd.read_csv(r'D:\\Internship\\PPG\\raw_label.csv')\n",
    "df.head()"
   ]
  },
  {
   "cell_type": "code",
   "execution_count": 41,
   "id": "648214bf",
   "metadata": {},
   "outputs": [
    {
     "data": {
      "text/plain": [
       "0    69\n",
       "1    68\n",
       "2    68\n",
       "3    68\n",
       "4    68\n",
       "Name: Beats / min, dtype: int64"
      ]
     },
     "execution_count": 41,
     "metadata": {},
     "output_type": "execute_result"
    }
   ],
   "source": [
    "df['Beats / min'].head()"
   ]
  },
  {
   "cell_type": "code",
   "execution_count": 44,
   "id": "9b699e1e",
   "metadata": {},
   "outputs": [
    {
     "name": "stdout",
     "output_type": "stream",
     "text": [
      "File saved successfully with 570 records.\n"
     ]
    }
   ],
   "source": [
    "# Initialize an empty list to store the mean values\n",
    "means_list = []\n",
    "# Calculate the number of chunks\n",
    "num_chunks = len(df) // 10 + (1 if len(df) % 10 else 0)\n",
    "\n",
    "for i in range(num_chunks):\n",
    "    # Calculate start and end indices for each chunk of 10 rows\n",
    "    start_idx = i * 10\n",
    "    end_idx = start_idx + 10\n",
    "    \n",
    "    # Calculate the mean of the current chunk for \"Beats / min\" column\n",
    "    chunk_mean = df['Beats / min'][start_idx:end_idx].mean()\n",
    "    \n",
    "    # Append the mean to the list, if the chunk is not empty\n",
    "    if not np.isnan(chunk_mean):\n",
    "        means_list.append(chunk_mean)\n",
    "\n",
    "# Create a new DataFrame for the mean values\n",
    "mean_df = pd.DataFrame(means_list, columns=['labels'])\n",
    "\n",
    "# Save the resulting DataFrame to a new CSV file\n",
    "mean_df.to_csv(r'D:\\Internship\\PPG\\labels.csv', index=False)\n",
    "\n",
    "print(f\"File saved successfully with {len(mean_df)} records.\")\n"
   ]
  },
  {
   "cell_type": "markdown",
   "id": "52bf58b0",
   "metadata": {},
   "source": [
    "# PRE-PROCESSING FEATURES"
   ]
  },
  {
   "cell_type": "code",
   "execution_count": 4,
   "id": "74584bb4",
   "metadata": {},
   "outputs": [],
   "source": [
    "import scipy.io\n",
    "import numpy as np\n",
    "import os"
   ]
  },
  {
   "cell_type": "code",
   "execution_count": 7,
   "id": "a766aefc",
   "metadata": {},
   "outputs": [],
   "source": [
    "input_dir = r'D:\\Internship\\PPG\\filteredandpeakdetectedsignals'\n",
    "output_dir = r'D:\\Internship\\PPG\\processed_2'"
   ]
  },
  {
   "cell_type": "code",
   "execution_count": 8,
   "id": "41b89817",
   "metadata": {},
   "outputs": [
    {
     "name": "stdout",
     "output_type": "stream",
     "text": [
      "['S10denoised.mat', 'S11denoised.mat', 'S12denoised.mat', 'S13denoised.mat', 'S14denoised.mat', 'S15denoised.mat', 'S16denoised.mat', 'S17denoised.mat', 'S18denoised.mat', 'S19denoised.mat', 'S1denoised.mat', 'S20denoised.mat', 'S21denoised.mat', 'S2denoised.mat', 'S3denoised.mat', 'S4denoised.mat', 'S5denoised.mat', 'S6denoised.mat', 'S7denoised.mat', 'S8denoised.mat', 'S9denoised.mat', 'vPPG_sync.asv', 'vPPG_sync.m']\n"
     ]
    }
   ],
   "source": [
    "files = os.listdir(input_dir)\n",
    "print(files)"
   ]
  },
  {
   "cell_type": "code",
   "execution_count": 9,
   "id": "c5f32a16",
   "metadata": {},
   "outputs": [],
   "source": [
    "for file in files:\n",
    "    if file.endswith('.mat'):\n",
    "        file_path = os.path.join(input_dir,file)\n",
    "        data = scipy.io.loadmat(file_path)['d_noise_removed']\n",
    "        data = data.squeeze() #remove 1st dimension\n",
    "        \n",
    "        splits = int(len(data)/250)\n",
    "        sub_data = np.array_split(data,splits)\n",
    "        \n",
    "        for index,sub_array in enumerate(sub_data):\n",
    "            np.save(f\"{output_dir}\\{file}_{index}\",sub_array)"
   ]
  },
  {
   "cell_type": "markdown",
   "id": "995d1af4",
   "metadata": {},
   "source": [
    "## REGRESSION MODEL"
   ]
  },
  {
   "cell_type": "code",
   "execution_count": 4,
   "id": "5ceb039b",
   "metadata": {},
   "outputs": [],
   "source": [
    "# Specify the directory containing your .npy files\n",
    "npy_files_dir = r'D:\\Internship\\PPG\\Vitals_Using_PPG\\dataset\\features'\n",
    "\n",
    "# List all files in the directory and filter for .npy files\n",
    "npy_files = [file for file in os.listdir(npy_files_dir) if file.endswith('.npy')]\n",
    "\n",
    "# Sort the files if they are in a sequential order but named differently\n",
    "# npy_files.sort()\n",
    "\n",
    "# Load the .npy files\n",
    "features = []\n",
    "for file in npy_files:\n",
    "    filepath = os.path.join(npy_files_dir, file)\n",
    "    sample = np.load(filepath)\n",
    "    \n",
    "    # Truncate or keep the sample to the first 250 elements\n",
    "    if sample.shape[0] > 250:\n",
    "        truncated_sample = sample[:250]\n",
    "    else:\n",
    "        truncated_sample = sample\n",
    "    \n",
    "    features.append(truncated_sample)\n",
    "\n",
    "# Convert the list of numpy arrays into a single numpy array\n",
    "X = np.array(features)\n",
    "\n",
    "# Load labels\n",
    "labels_path = r'D:\\Internship\\PPG\\Vitals_Using_PPG\\dataset/labels.csv'\n",
    "y = pd.read_csv(labels_path)\n",
    "\n",
    "# Assuming your labels are in the first column\n",
    "y = y['labels'].values\n"
   ]
  },
  {
   "cell_type": "code",
   "execution_count": 5,
   "id": "daab8dd8",
   "metadata": {},
   "outputs": [],
   "source": [
    "from sklearn.model_selection import train_test_split\n",
    "\n",
    "X_train, X_test, y_train, y_test = train_test_split(X, y, test_size=0.2, random_state=42)"
   ]
  },
  {
   "cell_type": "code",
   "execution_count": 6,
   "id": "077d6987",
   "metadata": {},
   "outputs": [
    {
     "data": {
      "text/plain": [
       "LinearRegression()"
      ]
     },
     "execution_count": 6,
     "metadata": {},
     "output_type": "execute_result"
    }
   ],
   "source": [
    "from sklearn.linear_model import LinearRegression\n",
    "\n",
    "# Initialize the model\n",
    "model = LinearRegression()\n",
    "\n",
    "# Fit the model\n",
    "model.fit(X_train, y_train)"
   ]
  },
  {
   "cell_type": "code",
   "execution_count": 8,
   "id": "79ea6e4a",
   "metadata": {},
   "outputs": [
    {
     "name": "stdout",
     "output_type": "stream",
     "text": [
      "Mean squared error: 10937389.66\n",
      "Coefficient of determination: -111422.31\n",
      "Mean Absolute Error: 483.00\n"
     ]
    }
   ],
   "source": [
    "from sklearn.metrics import mean_squared_error, r2_score \n",
    "from sklearn.metrics import mean_absolute_error\n",
    "\n",
    "# Make predictions using the testing set\n",
    "y_pred = model.predict(X_test)\n",
    "\n",
    "# The mean squared error\n",
    "print('Mean squared error: %.2f' % mean_squared_error(y_test, y_pred))\n",
    "# The coefficient of determination: 1 is perfect prediction\n",
    "print('Coefficient of determination: %.2f' % r2_score(y_test, y_pred))\n",
    "# Calculate the MAE\n",
    "mae = mean_absolute_error(y_test, y_pred)\n",
    "print(f'Mean Absolute Error: {mae:.2f}')"
   ]
  },
  {
   "cell_type": "code",
   "execution_count": null,
   "id": "6c99a636",
   "metadata": {},
   "outputs": [],
   "source": []
  }
 ],
 "metadata": {
  "kernelspec": {
   "display_name": "Python 3 (ipykernel)",
   "language": "python",
   "name": "python3"
  },
  "language_info": {
   "codemirror_mode": {
    "name": "ipython",
    "version": 3
   },
   "file_extension": ".py",
   "mimetype": "text/x-python",
   "name": "python",
   "nbconvert_exporter": "python",
   "pygments_lexer": "ipython3",
   "version": "3.9.13"
  }
 },
 "nbformat": 4,
 "nbformat_minor": 5
}
